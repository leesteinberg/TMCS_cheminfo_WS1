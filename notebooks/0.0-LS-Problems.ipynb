{
 "cells": [
  {
   "cell_type": "markdown",
   "metadata": {},
   "source": [
    "# TMCS Chemical Informatics Workshop 1\n",
    "\n",
    "This workshop introduces you to building a QSAR type model to describe some solubility data. Please work through the material and write up your investigation, taking advantage of the features offered with _jupyter notebooks_.\n",
    "\n",
    "## Solubility\n",
    "\n",
    "It has been suggested that the solubility of compounds in water, $S$, is related to the partition coefficient of the compound between water and octanol $P$, and the melting point of the solid, $T_m$. In this workshop we ask you to explore the relationship.\n",
    "\n",
    "Using the data provided in `../data/raw`:\n",
    "\n",
    "1. Data cleaning - load in the data using the pandas library, and see if anything needs to be done to make this data useful. Make those changes, and save your new data in `../data/processed`\n",
    "    1. For example, look at the data types of the different variables - are there any weird results?\n",
    "    1. Make sure that you create a clear list of the changes you have made and why.\n",
    "1. Why do we save the changes in a new file, rather than overwrite the old one?\n",
    "1. It has been suggested that the solubility of a molecule can be predicted from $log(P)$ and the melting point. It therefore makes sense to plot the solubility as a function of $log(P)$ and $T_m$ separately (use the matplotlib/seaborn library to do this, depending on your preferences). Investigate any relationship between $S$ and $log(P)$. Using suitable plots, decide if it is better to look for a relationship between $log(S)$ and $log(P)$. If so, explain why.\n",
    "1. Characterise the relationship, and discuss how significant this relationship is. Determine the best least squares linear fit (using scikit-learn). \n",
    "1. Similarly, look for a relationship between $S$ and the melting point\n",
    "    1. Discuss what units you should use for the melting point\n",
    "    1. Should the relationship be with $T_m$ or $\\frac{1}{T_m}$? Comment and discuss\n",
    "1. Investigate and discuss the nature, if any, of the correlation between $log(P)$ and $T_m$. Explain why this would be important\n",
    "1. Use scikit-learn (or similar) to fit a model that uses both $log(P)$ and $T_m$ (i.e. a multi-linear regression). Is this a better model to predict $S$?\n",
    "1. Try and use the RDKit library to turn some of the SMILES strings into figures, and look at the molecules\n",
    "1. How would you assess the diversity of the compounds in this example? How does this reflect on the value of the models you have produced? How would you set about increasing this diversity."
   ]
  }
 ],
 "metadata": {
  "kernelspec": {
   "display_name": "Python [conda env:cheminfo_WS1]",
   "language": "python",
   "name": "conda-env-cheminfo_WS1-py"
  },
  "language_info": {
   "codemirror_mode": {
    "name": "ipython",
    "version": 3
   },
   "file_extension": ".py",
   "mimetype": "text/x-python",
   "name": "python",
   "nbconvert_exporter": "python",
   "pygments_lexer": "ipython3",
   "version": "3.6.7"
  }
 },
 "nbformat": 4,
 "nbformat_minor": 2
}
