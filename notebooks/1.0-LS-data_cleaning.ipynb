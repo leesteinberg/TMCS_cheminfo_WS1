{
 "cells": [
  {
   "cell_type": "markdown",
   "metadata": {},
   "source": [
    "# TMCS Chemical Informatics Workshop 1\n",
    "\n",
    "## Data Cleaning\n",
    "\n",
    "This notebook will detail the process of the data cleaning undertaken on the provided solubility data."
   ]
  },
  {
   "cell_type": "code",
   "execution_count": 1,
   "metadata": {},
   "outputs": [],
   "source": [
    "import pandas as pd"
   ]
  },
  {
   "cell_type": "code",
   "execution_count": 2,
   "metadata": {},
   "outputs": [
    {
     "data": {
      "text/html": [
       "<div>\n",
       "<style scoped>\n",
       "    .dataframe tbody tr th:only-of-type {\n",
       "        vertical-align: middle;\n",
       "    }\n",
       "\n",
       "    .dataframe tbody tr th {\n",
       "        vertical-align: top;\n",
       "    }\n",
       "\n",
       "    .dataframe thead th {\n",
       "        text-align: right;\n",
       "    }\n",
       "</style>\n",
       "<table border=\"1\" class=\"dataframe\">\n",
       "  <thead>\n",
       "    <tr style=\"text-align: right;\">\n",
       "      <th></th>\n",
       "      <th>CAS #</th>\n",
       "      <th>Formula</th>\n",
       "      <th>Mol Weight</th>\n",
       "      <th>Chemical Name</th>\n",
       "      <th>Solubility S/ (mg/L)</th>\n",
       "      <th>LogP</th>\n",
       "      <th>Melting Point / C</th>\n",
       "      <th>SMILES</th>\n",
       "    </tr>\n",
       "  </thead>\n",
       "  <tbody>\n",
       "    <tr>\n",
       "      <th>0</th>\n",
       "      <td>000055-91-4</td>\n",
       "      <td>C6H14FO3P</td>\n",
       "      <td>184.15</td>\n",
       "      <td>ISOFLUROPHATE</td>\n",
       "      <td>15400.0</td>\n",
       "      <td>1.13</td>\n",
       "      <td>-82</td>\n",
       "      <td>O=P(F)(OC(C)C)OC(C)C</td>\n",
       "    </tr>\n",
       "    <tr>\n",
       "      <th>1</th>\n",
       "      <td>000056-23-5</td>\n",
       "      <td>CCl4</td>\n",
       "      <td>153.82</td>\n",
       "      <td>CARBON TETRACHLORIDE</td>\n",
       "      <td>793.0</td>\n",
       "      <td>2.83</td>\n",
       "      <td>250</td>\n",
       "      <td>C(Cl)(Cl)(Cl)Cl</td>\n",
       "    </tr>\n",
       "    <tr>\n",
       "      <th>2</th>\n",
       "      <td>000052-24-4</td>\n",
       "      <td>C6H12N3PS</td>\n",
       "      <td>189.22</td>\n",
       "      <td>THIOTEPA</td>\n",
       "      <td>190000.0</td>\n",
       "      <td>0.53</td>\n",
       "      <td>51.5</td>\n",
       "      <td>S=P(N1CC1)(N2CC2)N3CC3</td>\n",
       "    </tr>\n",
       "    <tr>\n",
       "      <th>3</th>\n",
       "      <td>000052-68-6</td>\n",
       "      <td>C4H8Cl3O4P</td>\n",
       "      <td>257.44</td>\n",
       "      <td>TRICHLORFON</td>\n",
       "      <td>120000.0</td>\n",
       "      <td>0.51</td>\n",
       "      <td>77</td>\n",
       "      <td>COP(=O)(OC)C(O)C(Cl)(Cl)Cl</td>\n",
       "    </tr>\n",
       "    <tr>\n",
       "      <th>4</th>\n",
       "      <td>000053-19-0</td>\n",
       "      <td>C14H10Cl4</td>\n",
       "      <td>320.05</td>\n",
       "      <td>O,P'-DDD</td>\n",
       "      <td>0.1</td>\n",
       "      <td>5.87</td>\n",
       "      <td>77</td>\n",
       "      <td>ClC(Cl)C(c1ccc(Cl)cc1)c2ccccc2Cl</td>\n",
       "    </tr>\n",
       "  </tbody>\n",
       "</table>\n",
       "</div>"
      ],
      "text/plain": [
       "         CAS #     Formula  Mol Weight         Chemical Name  \\\n",
       "0  000055-91-4   C6H14FO3P      184.15         ISOFLUROPHATE   \n",
       "1  000056-23-5        CCl4      153.82  CARBON TETRACHLORIDE   \n",
       "2  000052-24-4   C6H12N3PS      189.22              THIOTEPA   \n",
       "3  000052-68-6  C4H8Cl3O4P      257.44           TRICHLORFON   \n",
       "4  000053-19-0   C14H10Cl4      320.05              O,P'-DDD   \n",
       "\n",
       "   Solubility S/ (mg/L)  LogP Melting Point / C  \\\n",
       "0               15400.0  1.13               -82   \n",
       "1                 793.0  2.83               250   \n",
       "2              190000.0  0.53              51.5   \n",
       "3              120000.0  0.51                77   \n",
       "4                   0.1  5.87                77   \n",
       "\n",
       "                             SMILES  \n",
       "0              O=P(F)(OC(C)C)OC(C)C  \n",
       "1                   C(Cl)(Cl)(Cl)Cl  \n",
       "2            S=P(N1CC1)(N2CC2)N3CC3  \n",
       "3        COP(=O)(OC)C(O)C(Cl)(Cl)Cl  \n",
       "4  ClC(Cl)C(c1ccc(Cl)cc1)c2ccccc2Cl  "
      ]
     },
     "execution_count": 2,
     "metadata": {},
     "output_type": "execute_result"
    }
   ],
   "source": [
    "raw_data = pd.read_csv('../data/raw/solubility_data_raw.csv')\n",
    "raw_data.head()"
   ]
  },
  {
   "cell_type": "markdown",
   "metadata": {},
   "source": [
    "Let's look at the data types as suggested."
   ]
  },
  {
   "cell_type": "code",
   "execution_count": 3,
   "metadata": {},
   "outputs": [
    {
     "name": "stdout",
     "output_type": "stream",
     "text": [
      "CAS # object\n",
      "Formula object\n",
      "Mol Weight float64\n",
      "Chemical Name object\n",
      "Solubility S/ (mg/L) float64\n",
      "LogP float64\n",
      "Melting Point / C object\n",
      "SMILES object\n"
     ]
    }
   ],
   "source": [
    "for colname in raw_data.columns.values:\n",
    "    print(colname, raw_data[colname].dtype)"
   ]
  },
  {
   "cell_type": "markdown",
   "metadata": {},
   "source": [
    "The melting point is weird - we would expect numerical values? What's going on?"
   ]
  },
  {
   "cell_type": "code",
   "execution_count": 4,
   "metadata": {},
   "outputs": [
    {
     "data": {
      "text/plain": [
       "0            -82\n",
       "1            250\n",
       "2           51.5\n",
       "3             77\n",
       "4             77\n",
       "5          129.1\n",
       "6          134.5\n",
       "7          146.5\n",
       "8          151.5\n",
       "9            157\n",
       "10           158\n",
       "11         170.5\n",
       "12         171.4\n",
       "13           172\n",
       "14           173\n",
       "15           174\n",
       "16           180\n",
       "17           222\n",
       "18         260.2\n",
       "19           263\n",
       "20         269.5\n",
       "21       138-139\n",
       "22    140-141   \n",
       "Name: Melting Point / C, dtype: object"
      ]
     },
     "execution_count": 4,
     "metadata": {},
     "output_type": "execute_result"
    }
   ],
   "source": [
    "raw_data['Melting Point / C']"
   ]
  },
  {
   "cell_type": "markdown",
   "metadata": {},
   "source": [
    "The last two variables have been given as ranges - we can't do modelling with this! Let's change it so we're using the mean value."
   ]
  },
  {
   "cell_type": "code",
   "execution_count": 5,
   "metadata": {},
   "outputs": [
    {
     "name": "stdout",
     "output_type": "stream",
     "text": [
      "0     -82.0\n",
      "1     250.0\n",
      "2      51.5\n",
      "3      77.0\n",
      "4      77.0\n",
      "5     129.1\n",
      "6     134.5\n",
      "7     146.5\n",
      "8     151.5\n",
      "9     157.0\n",
      "10    158.0\n",
      "11    170.5\n",
      "12    171.4\n",
      "13    172.0\n",
      "14    173.0\n",
      "15    174.0\n",
      "16    180.0\n",
      "17    222.0\n",
      "18    260.2\n",
      "19    263.0\n",
      "20    269.5\n",
      "21    138.5\n",
      "22    140.5\n",
      "Name: Melting Point / C, dtype: float64\n"
     ]
    }
   ],
   "source": [
    "import copy\n",
    "import numpy as np\n",
    "\n",
    "processed_data = copy.deepcopy(raw_data) # It is best to keep the raw data totally unchanged\n",
    "\n",
    "processed_data.loc[21, 'Melting Point / C'] = 138.5\n",
    "processed_data.loc[22, 'Melting Point / C'] = 140.5\n",
    "\n",
    "# Now lets change the data type to a float. This will also see if our process has worked!\n",
    "processed_data['Melting Point / C'] = processed_data['Melting Point / C'].astype(np.float64)\n",
    "\n",
    "print(processed_data['Melting Point / C'])"
   ]
  },
  {
   "cell_type": "markdown",
   "metadata": {},
   "source": [
    "Now we can save this data. I will save it as `imputed_data.csv` as we have filled in some weird values."
   ]
  },
  {
   "cell_type": "code",
   "execution_count": 6,
   "metadata": {},
   "outputs": [],
   "source": [
    "processed_data.to_csv('../data/processed/imputed_data.csv', index=False) # So we dont get a phantom column"
   ]
  },
  {
   "cell_type": "markdown",
   "metadata": {},
   "source": [
    "Next, I can see that I need to use the $Log(S)$ descriptor, so I will calculate it here. I will do the same to convert from Celsius to Kelvin for the melting point"
   ]
  },
  {
   "cell_type": "code",
   "execution_count": 7,
   "metadata": {},
   "outputs": [],
   "source": [
    "# Creation of logS\n",
    "processed_data['LogS'] = np.log(processed_data['Solubility S/ (mg/L)'])\n",
    "\n",
    "# Conversion to Kelvin\n",
    "processed_data['Melting Point / K'] = processed_data['Melting Point / C'] + 273"
   ]
  },
  {
   "cell_type": "markdown",
   "metadata": {},
   "source": [
    "I'll then save this file too."
   ]
  },
  {
   "cell_type": "code",
   "execution_count": 8,
   "metadata": {},
   "outputs": [],
   "source": [
    "processed_data.to_csv('../data/processed/transformed_data.csv', index=False) # So we dont get a phantom column"
   ]
  },
  {
   "cell_type": "markdown",
   "metadata": {},
   "source": [
    "Lets delete any rows with missing values lastly."
   ]
  },
  {
   "cell_type": "code",
   "execution_count": 9,
   "metadata": {},
   "outputs": [],
   "source": [
    "processed_data.dropna(axis=0, inplace=True)"
   ]
  },
  {
   "cell_type": "code",
   "execution_count": 10,
   "metadata": {},
   "outputs": [],
   "source": [
    "processed_data.to_csv('../data/processed/processed_data.csv')"
   ]
  }
 ],
 "metadata": {
  "kernelspec": {
   "display_name": "Python [conda env:cheminfo_WS1]",
   "language": "python",
   "name": "conda-env-cheminfo_WS1-py"
  },
  "language_info": {
   "codemirror_mode": {
    "name": "ipython",
    "version": 3
   },
   "file_extension": ".py",
   "mimetype": "text/x-python",
   "name": "python",
   "nbconvert_exporter": "python",
   "pygments_lexer": "ipython3",
   "version": "3.6.7"
  }
 },
 "nbformat": 4,
 "nbformat_minor": 2
}
